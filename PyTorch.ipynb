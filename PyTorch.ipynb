{
  "nbformat": 4,
  "nbformat_minor": 0,
  "metadata": {
    "colab": {
      "provenance": [],
      "gpuType": "T4"
    },
    "kernelspec": {
      "name": "python3",
      "display_name": "Python 3"
    },
    "language_info": {
      "name": "python"
    },
    "accelerator": "GPU"
  },
  "cells": [
    {
      "cell_type": "code",
      "source": [
        "import torch\n",
        "from torch import nn\n",
        "import matplotlib.pyplot as plt\n",
        "from pathlib import Path\n",
        "\n",
        "print(f\"Torch Version: {torch.__version__}\")"
      ],
      "metadata": {
        "colab": {
          "base_uri": "https://localhost:8080/"
        },
        "id": "48qiwJTofV2D",
        "outputId": "b16217a7-a710-4949-a577-e2f2d69ca6e8"
      },
      "execution_count": 1,
      "outputs": [
        {
          "output_type": "stream",
          "name": "stdout",
          "text": [
            "Torch Version: 2.0.1+cu118\n"
          ]
        }
      ]
    },
    {
      "cell_type": "code",
      "source": [
        "device = \"cuda\" if torch.cuda.is_available() else \"cpu\"\n",
        "print(f\"Device in use: {device}\")"
      ],
      "metadata": {
        "colab": {
          "base_uri": "https://localhost:8080/"
        },
        "id": "_o-Cw7ygfvX6",
        "outputId": "f779801d-5232-4c47-aaa1-0a7b977347ce"
      },
      "execution_count": 2,
      "outputs": [
        {
          "output_type": "stream",
          "name": "stdout",
          "text": [
            "Device in use: cuda\n"
          ]
        }
      ]
    },
    {
      "cell_type": "code",
      "source": [
        "# Data Generation\n",
        "\n",
        "weight = 0.7\n",
        "bias = 0.3\n",
        "\n",
        "X = torch.arange(0, 1, 0.02).unsqueeze(dim=1)\n",
        "y = weight * X + bias\n",
        "\n",
        "X[:10], y[:10]"
      ],
      "metadata": {
        "colab": {
          "base_uri": "https://localhost:8080/"
        },
        "id": "t1bmqTYuf7aW",
        "outputId": "a13f01b0-af31-4b9a-8639-4fae75e88a35"
      },
      "execution_count": 3,
      "outputs": [
        {
          "output_type": "execute_result",
          "data": {
            "text/plain": [
              "(tensor([[0.0000],\n",
              "         [0.0200],\n",
              "         [0.0400],\n",
              "         [0.0600],\n",
              "         [0.0800],\n",
              "         [0.1000],\n",
              "         [0.1200],\n",
              "         [0.1400],\n",
              "         [0.1600],\n",
              "         [0.1800]]),\n",
              " tensor([[0.3000],\n",
              "         [0.3140],\n",
              "         [0.3280],\n",
              "         [0.3420],\n",
              "         [0.3560],\n",
              "         [0.3700],\n",
              "         [0.3840],\n",
              "         [0.3980],\n",
              "         [0.4120],\n",
              "         [0.4260]]))"
            ]
          },
          "metadata": {},
          "execution_count": 3
        }
      ]
    },
    {
      "cell_type": "code",
      "source": [
        "# Train/Test Split\n",
        "\n",
        "splitRatio = 0.8\n",
        "trainSplit = int(splitRatio * len(X))\n",
        "\n",
        "XTrain, yTrain = X[:trainSplit], y[:trainSplit]\n",
        "XTest, yTest = X[trainSplit:], y[trainSplit:]\n",
        "\n",
        "len(XTrain), len(yTrain), len(XTest), len(yTest)"
      ],
      "metadata": {
        "colab": {
          "base_uri": "https://localhost:8080/"
        },
        "id": "4Rl_vsVXgRR0",
        "outputId": "517820ac-97ff-40a9-9741-67fb0909e6e4"
      },
      "execution_count": 4,
      "outputs": [
        {
          "output_type": "execute_result",
          "data": {
            "text/plain": [
              "(40, 40, 10, 10)"
            ]
          },
          "metadata": {},
          "execution_count": 4
        }
      ]
    },
    {
      "cell_type": "code",
      "source": [
        "# Plot Function\n",
        "\n",
        "def plotPredictions(dataTrain=XTrain,\n",
        "                    labelsTrain=yTrain,\n",
        "                    dataTest=XTest,\n",
        "                    labelsTest=yTest,\n",
        "                    predictions=None):\n",
        "\n",
        "  plt.figure(figsize=(12, 8))\n",
        "  plt.scatter(dataTrain, labelsTrain, c=\"b\", s=4, label=\"Training Data\")\n",
        "  plt.scatter(dataTest, labelsTest, c=\"g\", s=4, label=\"Testing Data\")\n",
        "\n",
        "  if predictions is not None:\n",
        "    plt.scatter(dataTest, predictions, c=\"r\", s=4, label=\"Prediction\")\n",
        "\n",
        "  plt.legend(prop={\"size\": 14})"
      ],
      "metadata": {
        "id": "flhVJj3OgwXI"
      },
      "execution_count": 7,
      "outputs": []
    },
    {
      "cell_type": "code",
      "source": [
        "plotPredictions();"
      ],
      "metadata": {
        "colab": {
          "base_uri": "https://localhost:8080/",
          "height": 676
        },
        "id": "ChNwqRIDhnPY",
        "outputId": "271334ab-ce95-4b49-d9a0-a6479d423436"
      },
      "execution_count": 8,
      "outputs": [
        {
          "output_type": "display_data",
          "data": {
            "text/plain": [
              "<Figure size 1200x800 with 1 Axes>"
            ],
            "image/png": "[encoded data removed]"
          },
          "metadata": {}
        }
      ]
    },
    {
      "cell_type": "code",
      "source": [
        "# Building Model\n",
        "\n",
        "class LinearRegressionModel(nn.Module):\n",
        "  def __init__(self):\n",
        "    super().__init__()\n",
        "\n",
        "    self.linearLayer = nn.Linear(in_features=1,\n",
        "                                 out_features=1)\n",
        "\n",
        "  def forward(self, x: torch.Tensor) -> torch.Tensor:\n",
        "    return self.linearLayer(x)\n",
        "\n",
        "torch.manual_seed(42)\n",
        "model0 = LinearRegressionModel()\n",
        "model0, model0.state_dict()"
      ],
      "metadata": {
        "colab": {
          "base_uri": "https://localhost:8080/"
        },
        "id": "nBV1B0EshpoJ",
        "outputId": "3a53976c-3903-4605-bfc8-501ced7f9942"
      },
      "execution_count": 15,
      "outputs": [
        {
          "output_type": "execute_result",
          "data": {
            "text/plain": [
              "(LinearRegressionModel(\n",
              "   (linearLayer): Linear(in_features=1, out_features=1, bias=True)\n",
              " ),\n",
              " OrderedDict([('linearLayer.weight', tensor([[0.7645]])),\n",
              "              ('linearLayer.bias', tensor([0.8300]))]))"
            ]
          },
          "metadata": {},
          "execution_count": 15
        }
      ]
    },
    {
      "cell_type": "code",
      "source": [
        "# Checking model device\n",
        "\n",
        "next(model0.parameters()).device"
      ],
      "metadata": {
        "colab": {
          "base_uri": "https://localhost:8080/"
        },
        "id": "zjeE-LYUiq1p",
        "outputId": "84b83ad1-d31b-415d-d12a-b4214dad4b29"
      },
      "execution_count": 16,
      "outputs": [
        {
          "output_type": "execute_result",
          "data": {
            "text/plain": [
              "device(type='cpu')"
            ]
          },
          "metadata": {},
          "execution_count": 16
        }
      ]
    },
    {
      "cell_type": "code",
      "source": [
        "# Changind device\n",
        "model0.to(device)\n",
        "\n",
        "next(model0.parameters()).device"
      ],
      "metadata": {
        "colab": {
          "base_uri": "https://localhost:8080/"
        },
        "id": "inDMz9aQi3wC",
        "outputId": "6938bcbb-e72a-43cf-8d62-c0fac38eb9e5"
      },
      "execution_count": 17,
      "outputs": [
        {
          "output_type": "execute_result",
          "data": {
            "text/plain": [
              "device(type='cuda', index=0)"
            ]
          },
          "metadata": {},
          "execution_count": 17
        }
      ]
    },
    {
      "cell_type": "code",
      "source": [
        "lossFn = nn.L1Loss()\n",
        "optimizer = torch.optim.SGD(params=model0.parameters(), lr=0.01)"
      ],
      "metadata": {
        "id": "sepPNgMAjC_L"
      },
      "execution_count": 18,
      "outputs": []
    },
    {
      "cell_type": "code",
      "source": [
        "# Creating a training loop\n",
        "\n",
        "torch.manual_seed(42)\n",
        "epochs = 100\n",
        "\n",
        "# Putting data to GPU\n",
        "XTrain = XTrain.to(device)\n",
        "yTrain = yTrain.to(device)\n",
        "XTest = XTest.to(device)\n",
        "yTest = yTest.to(device)\n",
        "\n",
        "for epoch in range(epochs):\n",
        "  model0.train()\n",
        "  yPred = model0(XTrain)\n",
        "  loss = lossFn(yPred, yTrain)\n",
        "  optimizer.zero_grad()\n",
        "  loss.backward()\n",
        "  optimizer.step()\n",
        "  model0.eval()\n",
        "\n",
        "  with torch.inference_mode():\n",
        "    testPred = model0(XTest)\n",
        "    testLoss = lossFn(testPred, yTest)\n",
        "\n",
        "  if epoch % 10 == 0:\n",
        "    print(f\"Epoch: {epoch} | Train Loss: {loss} | Test Loss: {testLoss}\")"
      ],
      "metadata": {
        "colab": {
          "base_uri": "https://localhost:8080/"
        },
        "id": "5dHTDU_5jVOW",
        "outputId": "5ab5fd8c-932f-42bf-c42c-8c0b35ca8eae"
      },
      "execution_count": 19,
      "outputs": [
        {
          "output_type": "stream",
          "name": "stdout",
          "text": [
            "Epoch: 0 | Train Loss: 0.5551779866218567 | Test Loss: 0.5739762187004089\n",
            "Epoch: 10 | Train Loss: 0.439968079328537 | Test Loss: 0.4392664134502411\n",
            "Epoch: 20 | Train Loss: 0.3247582018375397 | Test Loss: 0.30455657839775085\n",
            "Epoch: 30 | Train Loss: 0.20954833924770355 | Test Loss: 0.16984669864177704\n",
            "Epoch: 40 | Train Loss: 0.09433845430612564 | Test Loss: 0.03513690456748009\n",
            "Epoch: 50 | Train Loss: 0.023886388167738914 | Test Loss: 0.04784907028079033\n",
            "Epoch: 60 | Train Loss: 0.019956795498728752 | Test Loss: 0.045803118497133255\n",
            "Epoch: 70 | Train Loss: 0.016517987474799156 | Test Loss: 0.037530567497015\n",
            "Epoch: 80 | Train Loss: 0.013089174404740334 | Test Loss: 0.02994490973651409\n",
            "Epoch: 90 | Train Loss: 0.009653178043663502 | Test Loss: 0.02167237363755703\n"
          ]
        }
      ]
    },
    {
      "cell_type": "code",
      "source": [
        "model0.state_dict()"
      ],
      "metadata": {
        "colab": {
          "base_uri": "https://localhost:8080/"
        },
        "id": "2KZLj4MqkfgH",
        "outputId": "f8e25851-f6a1-42ca-f606-80b75b7d95bc"
      },
      "execution_count": 20,
      "outputs": [
        {
          "output_type": "execute_result",
          "data": {
            "text/plain": [
              "OrderedDict([('linearLayer.weight', tensor([[0.6691]], device='cuda:0')),\n",
              "             ('linearLayer.bias', tensor([0.3130], device='cuda:0'))])"
            ]
          },
          "metadata": {},
          "execution_count": 20
        }
      ]
    },
    {
      "cell_type": "code",
      "source": [
        "# Predictions\n",
        "\n",
        "model0.eval()\n",
        "yPred = model0(XTest)\n",
        "\n",
        "plotPredictions(predictions=yPred.detach().cpu());"
      ],
      "metadata": {
        "colab": {
          "base_uri": "https://localhost:8080/",
          "height": 676
        },
        "id": "R3jeNC53kx8E",
        "outputId": "a6c2571d-a7a6-40d3-8863-3b698750b907"
      },
      "execution_count": 25,
      "outputs": [
        {
          "output_type": "display_data",
          "data": {
            "text/plain": [
              "<Figure size 1200x800 with 1 Axes>"
            ],
            "image/png": "[encoded data removed]"
          },
          "metadata": {}
        }
      ]
    },
    {
      "cell_type": "code",
      "source": [
        "# Saving the model\n",
        "\n",
        "MODEL_PATH = Path(\"models\")\n",
        "MODEL_PATH.mkdir(parents=True, exist_ok=True)\n",
        "\n",
        "MODEL_NAME = \"LinearRegressionModel1.pth\"\n",
        "MODEL_SAVE_PATH = MODEL_PATH / MODEL_NAME\n",
        "\n",
        "print(f\"Saving to {MODEL_SAVE_PATH}\")\n",
        "torch.save(obj=model0.state_dict(), f=MODEL_SAVE_PATH)"
      ],
      "metadata": {
        "colab": {
          "base_uri": "https://localhost:8080/"
        },
        "id": "F_GoQRO0lAMM",
        "outputId": "90c967c6-954e-48e8-bf5b-46acfd60988e"
      },
      "execution_count": 26,
      "outputs": [
        {
          "output_type": "stream",
          "name": "stdout",
          "text": [
            "Saving to models/LinearRegressionModel1.pth\n"
          ]
        }
      ]
    },
    {
      "cell_type": "code",
      "source": [
        "# Loading a model\n",
        "\n",
        "model1 = LinearRegressionModel()\n",
        "model1.load_state_dict(torch.load(MODEL_SAVE_PATH))\n",
        "\n",
        "model1.to(device)\n",
        "model1.state_dict()"
      ],
      "metadata": {
        "colab": {
          "base_uri": "https://localhost:8080/"
        },
        "id": "pqE9R3_mmKY1",
        "outputId": "71245c12-bc53-4de1-89c0-e1901a764b02"
      },
      "execution_count": 27,
      "outputs": [
        {
          "output_type": "execute_result",
          "data": {
            "text/plain": [
              "OrderedDict([('linearLayer.weight', tensor([[0.6691]], device='cuda:0')),\n",
              "             ('linearLayer.bias', tensor([0.3130], device='cuda:0'))])"
            ]
          },
          "metadata": {},
          "execution_count": 27
        }
      ]
    },
    {
      "cell_type": "code",
      "source": [],
      "metadata": {
        "id": "JLxyej7EmttZ"
      },
      "execution_count": null,
      "outputs": []
    }
  ]
}